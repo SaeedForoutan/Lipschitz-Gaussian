{
  "cells": [
    {
      "cell_type": "markdown",
      "source": [
        "# **S&P 500 Prediction Using Dependent Gaussian Data**  \n",
        "\n",
        "## **License**  \n",
        "This project is released under the **GNU General Public License v3 (GPLv3)**.  \n",
        "You are free to use, modify, and distribute this code under the terms of the GPLv3 license.  \n",
        "For more details, see: [GNU GPL v3](https://www.gnu.org/licenses/gpl-3.0.en.html).  \n",
        "\n",
        "## **Authors**  \n",
        "- **Mina Sadat Mahmoudi**  \n",
        "- **Saeed Foroutan**  \n",
        "- **Seyed Abolfazl Motahari**  \n",
        "- **Babak Khalaj**  \n",
        "- Department of Electrical Engineering & Computer Engineering, Sharif University of Technology, Iran  \n",
        "\n",
        "## **Conference & Publication**  \n",
        "This work has been **accepted for presentation at ICASSP 2025**.  \n",
        "\n",
        "---\n",
        "\n",
        "## **Overview**  \n",
        "\n",
        "This notebook applies the theoretical findings from the paper:\n",
        "\n",
        "📄 **\"Uniform Convergence of Lipschitz Functions with Dependent Gaussian Samples\"**  \n",
        "(*ICASSP 2025, Sharif University of Technology*)  \n",
        "\n",
        "### **Objective**  \n",
        "- Predict **S&P 500 index values** using **dependent financial data**.  \n",
        "- Train a **deep learning model** to forecast stock market trends.  \n",
        "- Analyze the impact of **temporal dependence** on prediction accuracy.  \n",
        "\n",
        "### **Methodology**  \n",
        "- Utilize **historical S&P 500 data** with financial indicators.  \n",
        "- Train a **neural network** to learn patterns in stock price movements.  \n",
        "- Compare prediction performance under **different dependency structures** (`γ`).  \n",
        "\n",
        "This analysis explores how **financial time series data**, which inherently exhibits strong dependencies, aligns with the **theoretical results** on learning from **correlated samples**.\n",
        "\n",
        "\n",
        "### **In this Notebook Because of a high similarity with other notebook we just explain required cells**"
      ],
      "metadata": {
        "id": "A7QQWR--TGb6"
      }
    },
    {
      "cell_type": "code",
      "execution_count": null,
      "metadata": {
        "id": "mU0n39xcJ9QE"
      },
      "outputs": [],
      "source": [
        "import pandas as pd\n",
        "import numpy as np\n",
        "import torch\n",
        "import torch.nn as nn\n",
        "import torch.optim as optim\n",
        "import matplotlib.pyplot as plt\n",
        "import yfinance as yf\n",
        "from datetime import datetime, timedelta\n",
        "import random\n",
        "import seaborn as sn"
      ]
    },
    {
      "cell_type": "code",
      "execution_count": null,
      "metadata": {
        "id": "yNWHjDBbKExY"
      },
      "outputs": [],
      "source": [
        "def tensorize(x):\n",
        "  return torch.tensor(x, dtype=torch.float32).unsqueeze(1)\n"
      ]
    },
    {
      "cell_type": "code",
      "execution_count": null,
      "metadata": {
        "id": "6BFqi1JZsvT1"
      },
      "outputs": [],
      "source": [
        "# Define a deeper neural network with more layers and neurons\n",
        "class DeepNN(nn.Module):\n",
        "    def __init__(self):\n",
        "        super(DeepNN, self).__init__()\n",
        "        self.fc1 = nn.Linear(1, 128)  # Input layer to first hidden layer (128 neurons)\n",
        "        self.fc2 = nn.Linear(128, 256)  # First hidden layer to second hidden layer\n",
        "        self.fc3 = nn.Linear(256, 512)  # Second hidden layer to third hidden layer\n",
        "        self.fc4 = nn.Linear(512, 256)  # Third hidden layer to fourth hidden layer\n",
        "        self.fc5 = nn.Linear(256, 128)  # Fourth hidden layer to fifth hidden layer\n",
        "        self.fc6 = nn.Linear(128, 64)   # Fifth hidden layer to sixth hidden layer\n",
        "        self.fc7 = nn.Linear(64, 1)     # Sixth hidden layer to output layer\n",
        "\n",
        "    def forward(self, x):\n",
        "        x = torch.relu(self.fc1(x))\n",
        "        x = torch.relu(self.fc2(x))\n",
        "        x = torch.relu(self.fc3(x))\n",
        "        x = torch.relu(self.fc4(x))\n",
        "        x = torch.relu(self.fc5(x))\n",
        "        x = torch.relu(self.fc6(x))\n",
        "        x = self.fc7(x)\n",
        "        return x\n"
      ]
    },
    {
      "cell_type": "code",
      "execution_count": null,
      "metadata": {
        "id": "aO4uXXl4s3m9"
      },
      "outputs": [],
      "source": [
        "# Initialize the neural network\n",
        "model = DeepNN()\n",
        "\n",
        "# Define the loss function (Mean absolute error as shown in the equation)\n",
        "def custom_loss(output, target):\n",
        "    return torch.mean(torch.abs(output - target))\n",
        "\n",
        "# Define optimizer\n",
        "optimizer = optim.Adam(model.parameters(), lr=1e-4)"
      ]
    },
    {
      "cell_type": "code",
      "execution_count": null,
      "metadata": {
        "id": "RXEo6wBBsCjE"
      },
      "outputs": [],
      "source": [
        "def train_model(x,y,model):\n",
        "  x_tensor, y_tensor = tensorize(x), tensorize(y)\n",
        "\n",
        "  # Train the model\n",
        "  num_epochs = 2000\n",
        "  for epoch in range(num_epochs):\n",
        "      model.train()\n",
        "\n",
        "      # Forward pass\n",
        "      outputs = model(x_tensor)\n",
        "      loss = custom_loss(outputs, y_tensor)\n",
        "\n",
        "      # Backward pass and optimization\n",
        "      optimizer.zero_grad()\n",
        "      loss.backward()\n",
        "      optimizer.step()\n",
        "\n",
        "      # Print loss every 100 epochs\n",
        "      if (epoch+1) % 100 == 0:\n",
        "          print(f'Epoch [{epoch+1}/{num_epochs}], Loss: {loss.item():.4f}')\n",
        "  return model\n"
      ]
    },
    {
      "cell_type": "code",
      "execution_count": null,
      "metadata": {
        "id": "X5kbbOipsFAq"
      },
      "outputs": [],
      "source": [
        "def predict(model, input):\n",
        "\n",
        "    model.eval()\n",
        "\n",
        "\n",
        "    output = model(input).detach().numpy()\n",
        "\n",
        "    return output\n"
      ]
    },
    {
      "cell_type": "markdown",
      "source": [
        "## **Step 1: Download Stock Data Using `yfinance`**  \n",
        "\n",
        "This function retrieves **historical stock price data** from **Yahoo Finance (`yfinance`)** for a given **ticker** within a specified date range.  \n",
        "\n",
        "### **Function: `download_stock_data(ticker, start_date, end_date)`**  \n",
        "- **Inputs:**  \n",
        "  - `ticker` → Stock symbol (e.g., `\"^GSPC\"` for S&P 500).  \n",
        "  - `start_date` → Beginning of the data period.  \n",
        "  - `end_date` → End of the data period.  \n",
        "- **Process:**  \n",
        "  - Downloads **daily stock prices** using the `yfinance.download()` method.  \n",
        "  - Fills any **missing values** using **forward fill (`ffill`)** to handle gaps in trading data.  \n",
        "- **Output:**  \n",
        "  - Returns a **DataFrame** containing historical stock data, including **Open, High, Low, Close, and Volume**.  \n",
        "\n",
        "This step ensures that we have a **clean and continuous dataset** for stock market prediction.\n"
      ],
      "metadata": {
        "id": "DfX04YQRTtQ_"
      }
    },
    {
      "cell_type": "code",
      "execution_count": null,
      "metadata": {
        "id": "Z3-Nb-W7s7Mq"
      },
      "outputs": [],
      "source": [
        "# Step 1: Download stock data using yfinance\n",
        "def download_stock_data(ticker, start_date, end_date):\n",
        "    # Download stock data from yfinance\n",
        "    stock_data = yf.download(ticker, start=start_date, end=end_date, interval=\"1d\")\n",
        "    stock_data.fillna(method='ffill')\n",
        "    return stock_data\n",
        "\n"
      ]
    },
    {
      "cell_type": "code",
      "execution_count": null,
      "metadata": {
        "id": "dwoq-dIfxaK2"
      },
      "outputs": [],
      "source": [
        "main_list = []"
      ]
    },
    {
      "cell_type": "code",
      "source": [],
      "metadata": {
        "id": "PeEuAsz2Ucrv"
      },
      "execution_count": null,
      "outputs": []
    },
    {
      "cell_type": "markdown",
      "metadata": {
        "id": "nQvsvbWtvk1H"
      },
      "source": [
        "**Sample: 50**"
      ]
    },
    {
      "cell_type": "markdown",
      "source": [
        "## **Step 2: Preparing Training and Testing Data**  \n",
        "\n",
        "This section retrieves, preprocesses, and normalizes **S&P 500 stock data** for model training and evaluation.\n",
        "\n",
        "---\n",
        "\n",
        "### **1️⃣ Data Collection**  \n",
        "- **Train Dataset**:  \n",
        "  - **Start Date:** ~27 years ago (~10,000 days)  \n",
        "  - **End Date:** ~9928 days ago  \n",
        "- **Test Dataset**:  \n",
        "  - **Start Date:** ~9899 days ago  \n",
        "  - **End Date:** Today  \n",
        "\n",
        "Our goal is that the train data size will be 50.\n",
        "\n",
        "We use the **closing price** as input (`X`) and the **trading volume** as output (`y`).\n",
        "\n",
        "We will iterate the same procedure for next sizes.\n",
        "\n",
        "---\n",
        "\n",
        "### **2️⃣ Data Normalization**  \n",
        "To ensure stable training, we **normalize** both inputs (`Close Price`) and outputs (`Volume`) using **min-max scaling**:\n",
        "\n",
        "$$\n",
        "X_{\\text{norm}} = \\frac{X - X_{\\text{min}}}{X_{\\text{max}} - X_{\\text{min}}}\n",
        "$$\n",
        "\n",
        "This transformation ensures values are within **[0,1]**, improving model convergence.\n",
        "\n",
        "---\n",
        "\n",
        "### **3️⃣ Model Training & Prediction**  \n",
        "- A **neural network model** is trained on `input_train_norm` and `output_train_norm`.  \n",
        "- The trained model is then used to **predict stock trading volume** based on unseen test data.\n",
        "\n",
        "---\n",
        "\n",
        "### **4️⃣ Random Sampling for Error Analysis**  \n",
        "- **500 random test points** are selected.  \n",
        "- **Constraint:** Each random point (`rnd`) is at least **3 days apart** from previously selected points to ensure diverse samples.  \n",
        "- **Prediction Process:**  \n",
        "  - Extract **closing price (`X_test`)** for the selected day.  \n",
        "  - Predict **trading volume (`y_pred`)** using the trained model.  \n",
        "  - Compute **absolute error** between predicted and actual values.\n",
        "\n"
      ],
      "metadata": {
        "id": "sTkrHQHjUKrK"
      }
    },
    {
      "cell_type": "code",
      "execution_count": null,
      "metadata": {
        "id": "LSzQFLRbs8jY"
      },
      "outputs": [],
      "source": [
        "end_date_train = datetime.now() - timedelta(days=9928)\n",
        "start_date_train = datetime.now() - timedelta(days=10000)\n",
        "\n",
        "end_date_test = datetime.now()\n",
        "start_date_test = datetime.now() - timedelta(days=9899)\n",
        "ticker = '^GSPC'"
      ]
    },
    {
      "cell_type": "code",
      "execution_count": null,
      "metadata": {
        "colab": {
          "base_uri": "https://localhost:8080/"
        },
        "id": "VgT4wXYAtcIa",
        "outputId": "67489329-0943-4ec8-f2f5-a58351d6a75f"
      },
      "outputs": [
        {
          "name": "stderr",
          "output_type": "stream",
          "text": [
            "[*********************100%***********************]  1 of 1 completed\n",
            "<ipython-input-42-5443a2374d1b>:5: FutureWarning: DataFrame.fillna with 'method' is deprecated and will raise in a future version. Use obj.ffill() or obj.bfill() instead.\n",
            "  stock_data.fillna(method='ffill')\n",
            "[*********************100%***********************]  1 of 1 completed"
          ]
        },
        {
          "name": "stdout",
          "output_type": "stream",
          "text": [
            "50\n"
          ]
        },
        {
          "name": "stderr",
          "output_type": "stream",
          "text": [
            "\n",
            "<ipython-input-42-5443a2374d1b>:5: FutureWarning: DataFrame.fillna with 'method' is deprecated and will raise in a future version. Use obj.ffill() or obj.bfill() instead.\n",
            "  stock_data.fillna(method='ffill')\n"
          ]
        }
      ],
      "source": [
        "stock_data_train = download_stock_data(ticker, start_date_train, end_date_train)\n",
        "stock_data_test = download_stock_data(ticker, start_date_test, end_date_test)\n",
        "input_train = stock_data_train['Close'].to_numpy()\n",
        "output_train = stock_data_train['Volume'].to_numpy()\n",
        "input_test = stock_data_test['Close'].to_numpy()\n",
        "output_test = stock_data_test['Volume'].to_numpy()\n",
        "input_train_norm = (input_train - np.min(input_train)) / (np.max(input_train) - np.min(input_train))\n",
        "output_train_norm = (output_train - np.min(output_train)) / (np.max(output_train) - np.min(output_train))\n",
        "input_test_norm = (input_test - np.min(input_test)) / (np.max(input_test) - np.min(input_test))\n",
        "output_test_norm = (output_test - np.min(output_test)) / (np.max(output_test) - np.min(output_test))\n",
        "print(len(input_train_norm))"
      ]
    },
    {
      "cell_type": "code",
      "execution_count": null,
      "metadata": {
        "colab": {
          "base_uri": "https://localhost:8080/"
        },
        "id": "XhXT9oMiX-wg",
        "outputId": "a45f73e0-f2e0-468e-c1a5-f203fd480310"
      },
      "outputs": [
        {
          "name": "stdout",
          "output_type": "stream",
          "text": [
            "50\n",
            "50\n",
            "6819\n",
            "6819\n"
          ]
        }
      ],
      "source": [
        "print(len(input_train_norm))\n",
        "print(len(output_train_norm))\n",
        "print(len(input_test_norm))\n",
        "print(len(output_test_norm))"
      ]
    },
    {
      "cell_type": "code",
      "execution_count": null,
      "metadata": {
        "colab": {
          "base_uri": "https://localhost:8080/"
        },
        "id": "jdJkodtNtjOW",
        "outputId": "1ddbc792-fe48-4e75-e912-f72239a0ffb8"
      },
      "outputs": [
        {
          "name": "stdout",
          "output_type": "stream",
          "text": [
            "Epoch [100/2000], Loss: 0.1450\n",
            "Epoch [200/2000], Loss: 0.1430\n",
            "Epoch [300/2000], Loss: 0.1392\n",
            "Epoch [400/2000], Loss: 0.1333\n",
            "Epoch [500/2000], Loss: 0.1260\n",
            "Epoch [600/2000], Loss: 0.1195\n",
            "Epoch [700/2000], Loss: 0.1189\n",
            "Epoch [800/2000], Loss: 0.1179\n",
            "Epoch [900/2000], Loss: 0.1180\n",
            "Epoch [1000/2000], Loss: 0.1180\n",
            "Epoch [1100/2000], Loss: 0.1179\n",
            "Epoch [1200/2000], Loss: 0.1179\n",
            "Epoch [1300/2000], Loss: 0.1174\n",
            "Epoch [1400/2000], Loss: 0.1176\n",
            "Epoch [1500/2000], Loss: 0.1175\n",
            "Epoch [1600/2000], Loss: 0.1170\n",
            "Epoch [1700/2000], Loss: 0.1171\n",
            "Epoch [1800/2000], Loss: 0.1169\n",
            "Epoch [1900/2000], Loss: 0.1167\n",
            "Epoch [2000/2000], Loss: 0.1170\n"
          ]
        }
      ],
      "source": [
        "trained_model = train_model(input_train_norm,output_train_norm,model)"
      ]
    },
    {
      "cell_type": "code",
      "execution_count": null,
      "metadata": {
        "id": "Bm1euDZKtk_J"
      },
      "outputs": [],
      "source": [
        "predicted_values = []\n",
        "actual_values = []\n",
        "sum_error = []\n",
        "iterations = 500\n",
        "list_of_rnds = []\n",
        "\n",
        "for i in range(iterations):\n",
        "    rnd = random.randint(0, 6800)\n",
        "\n",
        "    # Check if rnd is within 20 numbers of any existing rnd in list_of_rnds\n",
        "    while any(abs(rnd - previous_rnd) <= 3 for previous_rnd in list_of_rnds):\n",
        "        rnd = random.randint(0, 6800)\n",
        "\n",
        "    list_of_rnds.append(rnd)\n",
        "\n",
        "    # Continue with the rest of your operations\n",
        "    x1 = np.array([input_test_norm[rnd]])\n",
        "    y1 = np.array([output_test_norm[rnd]])\n",
        "    y_pred1 = predict(trained_model, tensorize(x1))\n",
        "\n",
        "    predicted_values.append(y_pred1[0][0])\n",
        "    actual_values.append(y1[0])\n",
        "    sum_error.append(abs(y1[0] - y_pred1[0][0]))"
      ]
    },
    {
      "cell_type": "code",
      "execution_count": null,
      "metadata": {
        "id": "j37xQ8PbUIMH"
      },
      "outputs": [],
      "source": [
        "main_list.append(sum_error)"
      ]
    },
    {
      "cell_type": "markdown",
      "metadata": {
        "id": "S_BPllDFx4S6"
      },
      "source": [
        "**Sample: 200**"
      ]
    },
    {
      "cell_type": "code",
      "execution_count": null,
      "metadata": {
        "colab": {
          "base_uri": "https://localhost:8080/"
        },
        "id": "ci5qqUgQxzi1",
        "outputId": "cdfa6962-1b35-417a-9456-d9979b3c5e67"
      },
      "outputs": [
        {
          "name": "stderr",
          "output_type": "stream",
          "text": [
            "\r[*********************100%***********************]  1 of 1 completed\n",
            "<ipython-input-42-5443a2374d1b>:5: FutureWarning: DataFrame.fillna with 'method' is deprecated and will raise in a future version. Use obj.ffill() or obj.bfill() instead.\n",
            "  stock_data.fillna(method='ffill')\n",
            "[*********************100%***********************]  1 of 1 completed"
          ]
        },
        {
          "name": "stdout",
          "output_type": "stream",
          "text": [
            "200\n"
          ]
        },
        {
          "name": "stderr",
          "output_type": "stream",
          "text": [
            "\n",
            "<ipython-input-42-5443a2374d1b>:5: FutureWarning: DataFrame.fillna with 'method' is deprecated and will raise in a future version. Use obj.ffill() or obj.bfill() instead.\n",
            "  stock_data.fillna(method='ffill')\n"
          ]
        }
      ],
      "source": [
        "end_date_train = datetime.now() - timedelta(days=9711)\n",
        "start_date_train = datetime.now() - timedelta(days=10000)\n",
        "\n",
        "end_date_test = datetime.now()\n",
        "start_date_test = datetime.now() - timedelta(days=9599)\n",
        "\n",
        "stock_data_train = download_stock_data(ticker, start_date_train, end_date_train)\n",
        "stock_data_test = download_stock_data(ticker, start_date_test, end_date_test)\n",
        "input_train = stock_data_train['Close'].to_numpy()\n",
        "output_train = stock_data_train['Volume'].to_numpy()\n",
        "input_test = stock_data_test['Close'].to_numpy()\n",
        "output_test = stock_data_test['Volume'].to_numpy()\n",
        "input_train_norm = (input_train - np.min(input_train)) / (np.max(input_train) - np.min(input_train))\n",
        "output_train_norm = (output_train - np.min(output_train)) / (np.max(output_train) - np.min(output_train))\n",
        "input_test_norm = (input_test - np.min(input_test)) / (np.max(input_test) - np.min(input_test))\n",
        "output_test_norm = (output_test - np.min(output_test)) / (np.max(output_test) - np.min(output_test))\n",
        "print(len(input_train_norm))"
      ]
    },
    {
      "cell_type": "code",
      "execution_count": null,
      "metadata": {
        "colab": {
          "base_uri": "https://localhost:8080/"
        },
        "id": "PU8AksfWY4JF",
        "outputId": "96e2be76-3219-42bf-9665-846b2c203d9b"
      },
      "outputs": [
        {
          "name": "stdout",
          "output_type": "stream",
          "text": [
            "200\n",
            "200\n",
            "6613\n",
            "6613\n"
          ]
        }
      ],
      "source": [
        "print(len(input_train_norm))\n",
        "print(len(output_train_norm))\n",
        "print(len(input_test_norm))\n",
        "print(len(output_test_norm))"
      ]
    },
    {
      "cell_type": "code",
      "execution_count": null,
      "metadata": {
        "colab": {
          "base_uri": "https://localhost:8080/"
        },
        "id": "VA-bTFE1yADV",
        "outputId": "5c447a0c-4aa4-4002-d4b3-011e94c8ccdf"
      },
      "outputs": [
        {
          "name": "stdout",
          "output_type": "stream",
          "text": [
            "Epoch [100/2000], Loss: 0.0616\n",
            "Epoch [200/2000], Loss: 0.0600\n",
            "Epoch [300/2000], Loss: 0.0595\n",
            "Epoch [400/2000], Loss: 0.0591\n",
            "Epoch [500/2000], Loss: 0.0588\n",
            "Epoch [600/2000], Loss: 0.0586\n",
            "Epoch [700/2000], Loss: 0.0584\n",
            "Epoch [800/2000], Loss: 0.0582\n",
            "Epoch [900/2000], Loss: 0.0582\n",
            "Epoch [1000/2000], Loss: 0.0581\n",
            "Epoch [1100/2000], Loss: 0.0580\n",
            "Epoch [1200/2000], Loss: 0.0580\n",
            "Epoch [1300/2000], Loss: 0.0579\n",
            "Epoch [1400/2000], Loss: 0.0579\n",
            "Epoch [1500/2000], Loss: 0.0579\n",
            "Epoch [1600/2000], Loss: 0.0578\n",
            "Epoch [1700/2000], Loss: 0.0578\n",
            "Epoch [1800/2000], Loss: 0.0577\n",
            "Epoch [1900/2000], Loss: 0.0578\n",
            "Epoch [2000/2000], Loss: 0.0575\n"
          ]
        }
      ],
      "source": [
        "trained_model = train_model(input_train_norm,output_train_norm,model)"
      ]
    },
    {
      "cell_type": "code",
      "execution_count": null,
      "metadata": {
        "id": "tAGXWb1oyCDa"
      },
      "outputs": [],
      "source": [
        "predicted_values = []\n",
        "actual_values = []\n",
        "sum_error = []\n",
        "iterations = 500\n",
        "list_of_rnds = []\n",
        "\n",
        "for i in range(iterations):\n",
        "    rnd = random.randint(0, 6600)\n",
        "\n",
        "    # Check if rnd is within 20 neighbors of any number in list_of_rnds\n",
        "    while any(abs(rnd - previous_rnd) <= 3 for previous_rnd in list_of_rnds):\n",
        "        rnd = random.randint(0, 6600)\n",
        "\n",
        "    list_of_rnds.append(rnd)\n",
        "\n",
        "    # Use rnd to select values and predict\n",
        "    x1 = np.array([input_test_norm[rnd]])\n",
        "    y1 = np.array([output_test_norm[rnd]])\n",
        "    y_pred1 = predict(trained_model, tensorize(x1))\n",
        "\n",
        "    predicted_values.append(y_pred1[0][0])\n",
        "    actual_values.append(y1[0])\n",
        "    sum_error.append(abs(y1[0] - y_pred1[0][0]))"
      ]
    },
    {
      "cell_type": "code",
      "execution_count": null,
      "metadata": {
        "id": "ejRa3fVuxpcA"
      },
      "outputs": [],
      "source": [
        "main_list.append(sum_error)"
      ]
    },
    {
      "cell_type": "markdown",
      "metadata": {
        "id": "t8yt4ufLzJ28"
      },
      "source": [
        "**Sample: 1000**"
      ]
    },
    {
      "cell_type": "code",
      "execution_count": null,
      "metadata": {
        "colab": {
          "base_uri": "https://localhost:8080/"
        },
        "id": "98a9K2IezHS0",
        "outputId": "831a914e-fcea-4de1-f9ac-17b4165e012b"
      },
      "outputs": [
        {
          "name": "stderr",
          "output_type": "stream",
          "text": [
            "[*********************100%***********************]  1 of 1 completed\n",
            "<ipython-input-42-5443a2374d1b>:5: FutureWarning: DataFrame.fillna with 'method' is deprecated and will raise in a future version. Use obj.ffill() or obj.bfill() instead.\n",
            "  stock_data.fillna(method='ffill')\n",
            "[*********************100%***********************]  1 of 1 completed"
          ]
        },
        {
          "name": "stdout",
          "output_type": "stream",
          "text": [
            "1000\n"
          ]
        },
        {
          "name": "stderr",
          "output_type": "stream",
          "text": [
            "\n",
            "<ipython-input-42-5443a2374d1b>:5: FutureWarning: DataFrame.fillna with 'method' is deprecated and will raise in a future version. Use obj.ffill() or obj.bfill() instead.\n",
            "  stock_data.fillna(method='ffill')\n"
          ]
        }
      ],
      "source": [
        "end_date_train = datetime.now() - timedelta(days=8551)\n",
        "start_date_train = datetime.now() - timedelta(days=10000)\n",
        "\n",
        "end_date_test = datetime.now()\n",
        "start_date_test = datetime.now() - timedelta(days=8399)\n",
        "\n",
        "stock_data_train = download_stock_data(ticker, start_date_train, end_date_train)\n",
        "stock_data_test = download_stock_data(ticker, start_date_test, end_date_test)\n",
        "input_train = stock_data_train['Close'].to_numpy()\n",
        "output_train = stock_data_train['Volume'].to_numpy()\n",
        "input_test = stock_data_test['Close'].to_numpy()\n",
        "output_test = stock_data_test['Volume'].to_numpy()\n",
        "input_train_norm = (input_train - np.min(input_train)) / (np.max(input_train) - np.min(input_train))\n",
        "output_train_norm = (output_train - np.min(output_train)) / (np.max(output_train) - np.min(output_train))\n",
        "input_test_norm = (input_test - np.min(input_test)) / (np.max(input_test) - np.min(input_test))\n",
        "output_test_norm = (output_test - np.min(output_test)) / (np.max(output_test) - np.min(output_test))\n",
        "print(len(input_train_norm))"
      ]
    },
    {
      "cell_type": "code",
      "execution_count": null,
      "metadata": {
        "colab": {
          "base_uri": "https://localhost:8080/"
        },
        "id": "C_8qkyTINVnc",
        "outputId": "ae2597c6-2a2e-405e-949b-0591ec0a803a"
      },
      "outputs": [
        {
          "name": "stdout",
          "output_type": "stream",
          "text": [
            "1000\n",
            "1000\n",
            "5787\n",
            "5787\n"
          ]
        }
      ],
      "source": [
        "print(len(input_train_norm))\n",
        "print(len(output_train_norm))\n",
        "print(len(input_test_norm))\n",
        "print(len(output_test_norm))"
      ]
    },
    {
      "cell_type": "code",
      "execution_count": null,
      "metadata": {
        "colab": {
          "base_uri": "https://localhost:8080/"
        },
        "id": "EEpg_V23zSvz",
        "outputId": "84940471-67af-40ad-dcae-3456c958c33e"
      },
      "outputs": [
        {
          "name": "stdout",
          "output_type": "stream",
          "text": [
            "Epoch [100/2000], Loss: 0.0664\n",
            "Epoch [200/2000], Loss: 0.0661\n",
            "Epoch [300/2000], Loss: 0.0660\n",
            "Epoch [400/2000], Loss: 0.0659\n",
            "Epoch [500/2000], Loss: 0.0658\n",
            "Epoch [600/2000], Loss: 0.0657\n",
            "Epoch [700/2000], Loss: 0.0657\n",
            "Epoch [800/2000], Loss: 0.0655\n",
            "Epoch [900/2000], Loss: 0.0655\n",
            "Epoch [1000/2000], Loss: 0.0654\n",
            "Epoch [1100/2000], Loss: 0.0653\n",
            "Epoch [1200/2000], Loss: 0.0653\n",
            "Epoch [1300/2000], Loss: 0.0652\n",
            "Epoch [1400/2000], Loss: 0.0652\n",
            "Epoch [1500/2000], Loss: 0.0651\n",
            "Epoch [1600/2000], Loss: 0.0651\n",
            "Epoch [1700/2000], Loss: 0.0650\n",
            "Epoch [1800/2000], Loss: 0.0651\n",
            "Epoch [1900/2000], Loss: 0.0649\n",
            "Epoch [2000/2000], Loss: 0.0649\n"
          ]
        }
      ],
      "source": [
        "trained_model = train_model(input_train_norm,output_train_norm,model)"
      ]
    },
    {
      "cell_type": "code",
      "execution_count": null,
      "metadata": {
        "id": "lQSTuFgHzVzd"
      },
      "outputs": [],
      "source": [
        "predicted_values = []\n",
        "actual_values = []\n",
        "sum_error = []\n",
        "iterations = 500\n",
        "list_of_rnds = []\n",
        "\n",
        "for i in range(iterations):\n",
        "    rnd = random.randint(0, 5500)\n",
        "\n",
        "    # Check if rnd is within 20 neighbors of any number in list_of_rnds\n",
        "    while any(abs(rnd - previous_rnd) <= 3 for previous_rnd in list_of_rnds):\n",
        "        rnd = random.randint(0, 5500)\n",
        "\n",
        "    list_of_rnds.append(rnd)\n",
        "\n",
        "    # Use rnd to select values and predict\n",
        "    x1 = np.array([input_test_norm[rnd]])\n",
        "    y1 = np.array([output_test_norm[rnd]])\n",
        "    y_pred1 = predict(trained_model, tensorize(x1))\n",
        "\n",
        "    predicted_values.append(y_pred1[0][0])\n",
        "    actual_values.append(y1[0])\n",
        "    sum_error.append(abs(y1[0] - y_pred1[0][0]))"
      ]
    },
    {
      "cell_type": "code",
      "execution_count": null,
      "metadata": {
        "id": "OCwXqlfBz5OI"
      },
      "outputs": [],
      "source": [
        "main_list.append(sum_error)"
      ]
    },
    {
      "cell_type": "code",
      "execution_count": null,
      "metadata": {
        "colab": {
          "base_uri": "https://localhost:8080/"
        },
        "id": "AYg9Ct9KyGQu",
        "outputId": "ba567ade-89d3-457d-eaae-c2ed19984e6c"
      },
      "outputs": [
        {
          "name": "stdout",
          "output_type": "stream",
          "text": [
            "0.2957396919317959\n",
            "0.13212297837821352\n",
            "0.09878942569045562\n"
          ]
        }
      ],
      "source": [
        "print(sum(main_list[0])/len(main_list[0]))\n",
        "print(sum(main_list[1])/len(main_list[1]))\n",
        "print(sum(main_list[2])/len(main_list[2]))"
      ]
    },
    {
      "cell_type": "markdown",
      "source": [
        "\n",
        "\n",
        "### **Computed Absolute Error Values**\n",
        "| **Sample Size** | **Average Absolute Prediction Error** |\n",
        "|---------------|----------------------------------|\n",
        "| **50 samples**  | **0.2957** |\n",
        "| **200 samples** | **0.1321** |\n",
        "| **1000 samples** | **0.0988** |\n",
        "\n",
        "---\n",
        "\n"
      ],
      "metadata": {
        "id": "-IDNRBO7VimA"
      }
    },
    {
      "cell_type": "code",
      "execution_count": null,
      "metadata": {
        "id": "PzvPrd2l2Hsm"
      },
      "outputs": [],
      "source": [
        "data2 = main_list"
      ]
    },
    {
      "cell_type": "code",
      "execution_count": null,
      "metadata": {
        "colab": {
          "base_uri": "https://localhost:8080/",
          "height": 636
        },
        "id": "5mm-DqVo2ElT",
        "outputId": "32195039-f901-48bc-8f53-d12ad532609e"
      },
      "outputs": [
        {
          "name": "stderr",
          "output_type": "stream",
          "text": [
            "<ipython-input-64-887a207ab86a>:13: UserWarning: FixedFormatter should only be used together with FixedLocator\n",
            "  box.set_xticklabels(['69', '275', '1103','6000'], fontsize=12)\n"
          ]
        },
        {
          "data": {
            "image/png": "[encoded data removed]",
            "text/plain": [
              "<Figure size 1000x600 with 1 Axes>"
            ]
          },
          "metadata": {},
          "output_type": "display_data"
        }
      ],
      "source": [
        "plt.rcParams[\"font.family\"] = \"Times New Roman\"\n",
        "# Create a box plot with adjusted box width\n",
        "plt.figure(figsize=(10, 6))  # Set the figure size\n",
        "\n",
        "# Create boxplot with a clean style and slimmer boxes\n",
        "sn.set(style=\"whitegrid\")\n",
        "box = sn.boxplot(data=data2, palette=\"Set2\", linewidth=2.5, width=0.3)  # Adjust the 'width' parameter\n",
        "\n",
        "# Customize the appearance\n",
        "box.set_title('With noise', fontsize=16)\n",
        "box.set_xlabel('Sample Size', fontsize=14)\n",
        "box.set_ylabel('Average Test Error', fontsize=14)\n",
        "box.set_xticklabels(['69', '275', '1103','6000'], fontsize=12)\n",
        "\n",
        "# Add gridlines\n",
        "plt.grid(True, linestyle='--', alpha=0.7)\n",
        "\n",
        "# Remove individual data points for a cleaner look\n",
        "sn.despine()\n",
        "\n",
        "# Show the plot\n",
        "plt.show()"
      ]
    }
  ],
  "metadata": {
    "colab": {
      "provenance": []
    },
    "kernelspec": {
      "display_name": "main-venv",
      "language": "python",
      "name": "python3"
    },
    "language_info": {
      "name": "python",
      "version": "3.11.11"
    }
  },
  "nbformat": 4,
  "nbformat_minor": 0
}